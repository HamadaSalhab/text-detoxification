{
 "cells": [
  {
   "cell_type": "code",
   "execution_count": null,
   "metadata": {},
   "outputs": [],
   "source": [
    "import os, sys\n",
    "sys.path.append(os.path.abspath(\"../\"))\n",
    "from src.data.make_dataset import get_dataset\n",
    "\n",
    "import pandas as pd\n",
    "\n",
    "INTERIM_DATASET_PATH = '../data/interim/preprocessed.tsv'\n",
    "\n",
    "df = pd.read_csv(INTERIM_DATASET_PATH, delimiter='\\t')"
   ]
  },
  {
   "cell_type": "code",
   "execution_count": null,
   "metadata": {},
   "outputs": [],
   "source": [
    "df.head()"
   ]
  },
  {
   "cell_type": "code",
   "execution_count": null,
   "metadata": {},
   "outputs": [],
   "source": [
    "from sklearn.model_selection import train_test_split\n",
    "\n",
    "# Train/Test Split\n",
    "train, eval = train_test_split(df, test_size=0.2, shuffle=False)"
   ]
  },
  {
   "cell_type": "code",
   "execution_count": null,
   "metadata": {},
   "outputs": [],
   "source": [
    "train.head()"
   ]
  },
  {
   "cell_type": "markdown",
   "metadata": {},
   "source": [
    "## Create Dataloader:"
   ]
  },
  {
   "cell_type": "code",
   "execution_count": null,
   "metadata": {},
   "outputs": [],
   "source": [
    "import torch\n",
    "\n",
    "# Set up device\n",
    "device = torch.device(\"mps\" if torch.backends.mps.is_available() else \"cuda\" if torch.cuda.is_available() else \"cpu\")\n",
    "device\n"
   ]
  },
  {
   "cell_type": "code",
   "execution_count": null,
   "metadata": {},
   "outputs": [],
   "source": [
    "import torch\n",
    "from torch.utils.data import Dataset\n",
    "import re\n",
    "\n",
    "def string_to_list(s):\n",
    "    return [int(x) for x in re.findall(r'\\d+', s)]\n",
    "\n",
    "class TextDetoxDataset(Dataset):\n",
    "    def __init__(self, dataframe):\n",
    "        self.reference_input_ids = dataframe['reference_input_ids'].apply(string_to_list)\n",
    "        self.reference_attention_mask = dataframe['reference_attention_mask'].apply(string_to_list)\n",
    "        self.similarity = dataframe['similarity']\n",
    "        self.ref_tox = dataframe['ref_tox']\n",
    "        self.trn_tox = dataframe['trn_tox']\n",
    "        self.length_diff = dataframe['lenght_diff']\n",
    "        self.translation_input_ids = dataframe['translation_input_ids'].apply(string_to_list)\n",
    "        self.translation_attention_mask = dataframe['translation_attention_mask'].apply(string_to_list)\n",
    "\n",
    "    def __len__(self):\n",
    "        return len(self.reference_input_ids)\n",
    "\n",
    "    def __getitem__(self, idx):\n",
    "        return {\n",
    "            \"reference_input_ids\": self.reference_input_ids[idx],\n",
    "            \"reference_attention_mask\": self.reference_attention_mask[idx],\n",
    "            \"similarity\": self.similarity[idx],\n",
    "            \"ref_tox\": self.ref_tox[idx],\n",
    "            \"trn_tox\": self.trn_tox[idx],\n",
    "            \"length_diff\": self.length_diff[idx],\n",
    "            \"translation_input_ids\": self.translation_input_ids[idx],\n",
    "            \"translation_attention_mask\": self.translation_attention_mask[idx],\n",
    "        }\n",
    "    \n",
    "train_dataset = TextDetoxDataset(train)\n",
    "eval_dataset = TextDetoxDataset(eval)"
   ]
  },
  {
   "cell_type": "code",
   "execution_count": null,
   "metadata": {},
   "outputs": [],
   "source": [
    "# train_dataset[3]\n",
    "ex=0\n",
    "for i in range(len(train_dataset)):\n",
    "    try:\n",
    "        # print(i)\n",
    "        assert len(train_dataset[i]['reference_input_ids']) == 512\n",
    "    except Exception as e:\n",
    "        ex+=1\n",
    "print(ex)"
   ]
  },
  {
   "cell_type": "code",
   "execution_count": null,
   "metadata": {},
   "outputs": [],
   "source": [
    "train_dataset[0].keys()"
   ]
  },
  {
   "cell_type": "code",
   "execution_count": null,
   "metadata": {},
   "outputs": [],
   "source": [
    "from torch.utils.data import DataLoader\n",
    "from torch.nn.utils.rnn import pad_sequence\n",
    "\n",
    "def custom_collate_fn(batch):\n",
    "    # Each entry in the batch is a dictionary; we want to batch by key\n",
    "    # First, we extract keys from the first dictionary in the batch (assuming all entries have the same keys)\n",
    "    keys = batch[0].keys()\n",
    "    collated_batch = []\n",
    "    c = 0\n",
    "    reference_input_ids_batch, reference_attention_mask_batch, translation_input_ids_batch = [], [], []\n",
    "    for entry in batch:\n",
    "        # print(c)\n",
    "        # print(entry['input_ids'])\n",
    "        # print(entry['attention_mask'])\n",
    "        # print(entry['target_ids'])\n",
    "        # collated_batch.append({\n",
    "        #     \"input_ids\": torch.tensor(entry['input_ids'], dtype=torch.int32).to(device),\n",
    "        #     \"attention_mask\": torch.tensor(entry['attention_mask'], dtype=torch.float32).to(device),\n",
    "        #     \"target_ids\": torch.tensor(entry['target_ids'], dtype=torch.int32).to(device)\n",
    "        # })\n",
    "        reference_input_ids_batch.append(entry[\"reference_input_ids\"])\n",
    "        reference_attention_mask_batch.append(entry[\"reference_attention_mask\"])\n",
    "        translation_input_ids_batch.append(entry[\"translation_input_ids\"])\n",
    "    # for key in keys:\n",
    "    #     # For each key, extract the corresponding values from all batch entries\n",
    "    #     values = [entry[key] for entry in batch]\n",
    "\n",
    "    #     # If the values are torch tensors (like input_ids, attention_mask, etc.), pad them\n",
    "    #     if isinstance(values[0], torch.Tensor):\n",
    "    #         values_padded = pad_sequence(values, batch_first=True)\n",
    "    #         collated_batch[key] = torch.tensor(values_padded, device=device)\n",
    "    #     else:\n",
    "    #         collated_batch[key] = torch.tensor(values, device=device)\n",
    "\n",
    "    reference_input_ids_batch = torch.tensor(reference_input_ids_batch, dtype=torch.int32).to(device)\n",
    "    reference_reference_attention_mask_batch = torch.tensor(reference_attention_mask_batch, dtype=torch.float32).to(device)\n",
    "    translation_input_ids_batch = torch.tensor(translation_input_ids_batch, dtype=torch.float32).to(device)\n",
    "    \n",
    "    collated_batch = {\n",
    "        \"input_ids\": reference_input_ids_batch,\n",
    "        \"attention_mask\": reference_attention_mask_batch,\n",
    "        \"labels\": translation_input_ids_batch\n",
    "    }\n",
    "\n",
    "    return collated_batch\n",
    "    # return reference_input_ids_batch, reference_attention_mask_batch, translation_input_ids_batch\n",
    "\n",
    "train_dataloader = DataLoader(train_dataset, batch_size=4, shuffle=False, collate_fn=custom_collate_fn)"
   ]
  },
  {
   "cell_type": "markdown",
   "metadata": {},
   "source": [
    "## Define the Model:"
   ]
  },
  {
   "cell_type": "code",
   "execution_count": 36,
   "metadata": {},
   "outputs": [],
   "source": [
    "from transformers import BertTokenizer, EncoderDecoderModel, Seq2SeqTrainingArguments, Seq2SeqTrainer\n",
    "\n",
    "# Load pre-trained BERT models and tokenizer\n",
    "tokenizer = BertTokenizer.from_pretrained(\"bert-base-uncased\")\n",
    "encoder_decoder_model = EncoderDecoderModel.from_encoder_decoder_pretrained(\"bert-base-uncased\", \"bert-base-uncased\")\n",
    "\n",
    "# Tokenize and prepare the dataset, make sure to set truncation=True, padding=True\n",
    "# and max_length as per your requirements\n",
    "\n",
    "# Fine-tuning configuration\n",
    "training_args = Seq2SeqTrainingArguments(\n",
    "    per_device_train_batch_size=4,\n",
    "    per_device_eval_batch_size=4,\n",
    "    predict_with_generate=True,\n",
    "    evaluation_strategy=\"steps\",\n",
    "    remove_unused_columns=False,\n",
    "    logging_dir='./logs',\n",
    "    logging_steps=100,\n",
    "    save_steps=500,\n",
    "    eval_steps=750,\n",
    "    save_total_limit=3,\n",
    "    output_dir=\"./output\",\n",
    "    # ... (add more arguments as needed)\n",
    ")\n",
    "\n",
    "# Create a Seq2SeqTrainer\n",
    "trainer = Seq2SeqTrainer(\n",
    "    model=encoder_decoder_model,\n",
    "    args=training_args,\n",
    "    # data_collator= custom_collate_fn,\n",
    "    train_dataset=train_dataset,\n",
    "    eval_dataset=eval_dataset,\n",
    ")\n",
    "\n",
    "# Fine-tune the model\n",
    "trainer.train()"
   ]
  },
  {
   "cell_type": "code",
   "execution_count": null,
   "metadata": {},
   "outputs": [],
   "source": [
    "# from transformers import BertTokenizer\n",
    "# from torch.optim import AdamW\n",
    "# tokenizer = BertTokenizer.from_pretrained('bert-base-uncased')\n",
    "\n",
    "# # Hyperparameters\n",
    "# HIDDEN_DIM = 256\n",
    "# OUTPUT_DIM = len(tokenizer.vocab)  # Vocabulary size\n",
    "# N_LAYERS = 2\n",
    "# DROPOUT = 0.5\n",
    "# LR = 5e-5\n",
    "# EPOCHS = 3\n",
    "\n",
    "# # Initialize model, loss, optimizer\n",
    "# bert_model = BertModel.from_pretrained('bert-base-uncased').to(device)\n",
    "# model = TextDetoxifier(bert_model, HIDDEN_DIM, OUTPUT_DIM, N_LAYERS, DROPOUT).to(device)\n",
    "# criterion = nn.CrossEntropyLoss(ignore_index=tokenizer.pad_token_id).to(device)\n",
    "# optimizer = AdamW(model.parameters(), lr=LR)\n",
    "\n",
    "# # (Optional) Set up a learning rate scheduler\n",
    "# scheduler = get_linear_schedule_with_warmup(optimizer, num_warmup_steps=0, num_training_steps=len(train)*EPOCHS)"
   ]
  },
  {
   "cell_type": "markdown",
   "metadata": {},
   "source": [
    "## Training Loop:"
   ]
  },
  {
   "cell_type": "code",
   "execution_count": null,
   "metadata": {},
   "outputs": [],
   "source": [
    "# from tqdm import tqdm\n",
    "\n",
    "# # Training loop\n",
    "# for epoch in range(EPOCHS):\n",
    "#     model.train()\n",
    "#     total_loss = 0\n",
    "    \n",
    "#     # Wrapping train_dataloader with tqdm to get a progress bar\n",
    "#     progress_bar = tqdm(train_dataloader, desc=f\"Epoch {epoch+1}/{EPOCHS}\")\n",
    "    \n",
    "#     for batch in progress_bar:\n",
    "#         # Get inputs and targets from batch\n",
    "#         input_ids = batch[0]\n",
    "#         attention_mask = batch[1]\n",
    "#         target_ids = batch[2]\n",
    "\n",
    "#         optimizer.zero_grad()\n",
    "         \n",
    "#         # print(len(input_ids), len(attention_mask), len(target_ids))\n",
    "#         # print(target_ids.shape)\n",
    "#         # break\n",
    "#         # Forward pass\n",
    "#         outputs = model(input_ids, attention_mask, target_ids)\n",
    "\n",
    "#         print('x')\n",
    "\n",
    "#         # Reshape outputs and target_ids for loss calculation\n",
    "#         outputs = outputs.view(-1, OUTPUT_DIM)\n",
    "#         target_ids = target_ids.view(-1)\n",
    "        \n",
    "#         # Calculate loss\n",
    "#         loss = criterion(outputs, target_ids)\n",
    "        \n",
    "#         # Backward pass\n",
    "#         loss.backward()\n",
    "        \n",
    "#         # Gradient clipping (often used with BERT)\n",
    "#         torch.nn.utils.clip_grad_norm_(model.parameters(), 1.0)\n",
    "        \n",
    "#         optimizer.step()\n",
    "        \n",
    "#         # Update the learning rate\n",
    "#         scheduler.step()\n",
    "        \n",
    "#         total_loss += loss.item()\n",
    "\n",
    "#     print(f\"Epoch {epoch+1}/{EPOCHS} | Loss: {total_loss/len(train_dataloader)}\")\n"
   ]
  }
 ],
 "metadata": {
  "kernelspec": {
   "display_name": "myconda",
   "language": "python",
   "name": "python3"
  },
  "language_info": {
   "codemirror_mode": {
    "name": "ipython",
    "version": 3
   },
   "file_extension": ".py",
   "mimetype": "text/x-python",
   "name": "python",
   "nbconvert_exporter": "python",
   "pygments_lexer": "ipython3",
   "version": "3.8.10"
  }
 },
 "nbformat": 4,
 "nbformat_minor": 2
}
